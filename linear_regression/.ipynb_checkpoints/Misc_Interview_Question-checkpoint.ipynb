{
 "cells": [
  {
   "cell_type": "markdown",
   "metadata": {},
   "source": [
    "# General engineering-related questions\n",
    "\n",
    "1. git\n",
    "2. data structure\n",
    "3. probability\n",
    "4. bug finding\n",
    "5. SQL"
   ]
  },
  {
   "cell_type": "code",
   "execution_count": 5,
   "metadata": {},
   "outputs": [],
   "source": [
    "import numpy as np\n",
    "import matplotlib.pyplot as plt\n",
    "import pandas as pd"
   ]
  },
  {
   "cell_type": "code",
   "execution_count": 1,
   "metadata": {},
   "outputs": [],
   "source": [
    "class Regression:\n",
    "    \n",
    "    \n",
    "    \n",
    "    def __init__(self, train: pd.DataFrame, test, predict):\n",
    "        pass\n",
    "\n",
    "    def find_sum(l, p):\n",
    "        res = 0\n",
    "\n",
    "        for i in l:\n",
    "            res += i**p\n",
    "        \n",
    "        return res\n",
    "\n",
    "    def find_mul_sum(l1, l2):\n",
    "        res = 0\n",
    "\n",
    "        for i in range(len(l1)):\n",
    "            res += (l1[i]*l2[i])\n",
    "        \n",
    "        return res\n",
    "\n",
    "    def solve_equ(sum_x, sum_x2, sum_y, sum_xy):\n",
    "        # Equation no 1\n",
    "        # Ey = a * Ex + b * n\n",
    "\n",
    "        # Equation no 2\n",
    "        # Exy = a * Ex^2 + b * Ex\n",
    "\n",
    "        n = 30\n",
    "\n",
    "        p = np.array([[sum_x,n], [sum_x2,sum_x]])\n",
    "        q = np.array([sum_y, sum_xy])\n",
    "\n",
    "        res = np.linalg.solve(p, q)\n",
    "\n",
    "        return res\n",
    "\n",
    "    def predict(x, res):\n",
    "        y_pred = []\n",
    "\n",
    "        for i in x:\n",
    "            y_pred.append(res[0] * i + res[1])\n",
    "\n",
    "        return y_pred"
   ]
  },
  {
   "cell_type": "code",
   "execution_count": 2,
   "metadata": {},
   "outputs": [],
   "source": [
    "def main():\n",
    "    x = [1.1,1.3,1.5,2,2.2,2.9,3,3.2,3.2,3.7,3.9,4,4,4.1,4.5,4.9,5.1,5.3,5.9,6,6.8,7.1,7.9,8.2,8.7,9,9.5,9.6,10.3,10.5]\n",
    "\n",
    "    y = [39343,46205,37731,43525,39891,56642,60150,54445,64445,57189,63218,55794,56957,57081,61111,67938,66029,83088,81363,93940,91738,98273,101302,113812,109431,105582,116969,112635,122391,121872]\n",
    "\n",
    "    r = Regression\n",
    "\n",
    "    sum_x = r.find_sum(x, 1)\n",
    "    sum_y = r.find_sum(y, 1)\n",
    "    sum_x2 = r.find_sum(x, 2)\n",
    "    sum_xy = r.find_mul_sum(x, y)\n",
    "\n",
    "    res = []\n",
    "\n",
    "    res = r.solve_equ(sum_x, sum_x2, sum_y, sum_xy)\n",
    "\n",
    "    y_pred = r.predict(x, res)\n",
    "\n",
    "    plt.scatter(x, y, color = 'red')\n",
    "    plt.plot(x, y_pred, color = 'blue')\n",
    "    plt.title('Ownression')\n",
    "    plt.xlabel('X')\n",
    "    plt.ylabel('Y')\n",
    "    plt.show()"
   ]
  },
  {
   "cell_type": "code",
   "execution_count": 3,
   "metadata": {},
   "outputs": [
    {
     "data": {
      "image/png": "[encoded data removed]",
      "text/plain": [
       "<Figure size 432x288 with 1 Axes>"
      ]
     },
     "metadata": {
      "needs_background": "light"
     },
     "output_type": "display_data"
    }
   ],
   "source": [
    "if __name__ == \"__main__\":\n",
    "    main()"
   ]
  },
  {
   "cell_type": "code",
   "execution_count": null,
   "metadata": {},
   "outputs": [],
   "source": []
  }
 ],
 "metadata": {
  "kernelspec": {
   "display_name": "Python 3",
   "language": "python",
   "name": "python3"
  },
  "language_info": {
   "name": ""
  }
 },
 "nbformat": 4,
 "nbformat_minor": 2
}
