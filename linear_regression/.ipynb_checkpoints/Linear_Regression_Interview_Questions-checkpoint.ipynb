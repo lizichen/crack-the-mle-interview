{
 "cells": [
  {
   "cell_type": "markdown",
   "metadata": {},
   "source": [
    "Before asking the following questions, reserve 3~5 minutes for:\n",
    "- greet the candidate\n",
    "- briefly introduce ZG, ZO, myself, and work\n",
    "- ask the candidate for past MLE experiences\n",
    "\n",
    "After the technical questions, leave 3~5 minutes for the candidates to ask questions.\n",
    "\n",
    "If the candidate does not know `numpy` or `python`, pseudo code is _okay_. "
   ]
  },
  {
   "cell_type": "markdown",
   "metadata": {},
   "source": [
    "# Linear Regression Interview Questions (40~50 minutes)\n",
    "\n",
    "## Give a general use case:\n",
    "At Zillow, we have many prediction problems to solve. For example, we need to select features from a home to predict the price it may sell for. Let's assume we have a dataset $X$ that has many features of a home; i.e., number of bedrooms, year of constructions, etc. And we need to predict a target $Y$ which presents the selling price of the home. \n",
    "\n",
    "1. What are some of the fundamental models that we can try? How to choose?\n",
    "    - data type: numerial or categorical\n",
    "    - choose baseline model first\n",
    "\n",
    "Given that *Linear Regression* is commonly used for baseline trials, let's dive deep into the details of the model. "
   ]
  },
  {
   "cell_type": "markdown",
   "metadata": {},
   "source": [
    "## Sample Data 1\n",
    "Present a simple 2-D $X$ that only has one feature, for illustration purpose. "
   ]
  },
  {
   "cell_type": "code",
   "execution_count": 1,
   "metadata": {},
   "outputs": [],
   "source": [
    "import numpy as np\n",
    "import matplotlib.pyplot as plt\n",
    "%matplotlib inline\n",
    "plt.style.use(['ggplot'])"
   ]
  },
  {
   "cell_type": "markdown",
   "metadata": {},
   "source": [
    "Given a generic expression of the linear regression model: $$y = mX + b$$\n",
    "let\n",
    "$$m = 3$$\n",
    "$$b = 4$$\n",
    "These $m, b$ are the ground truth of the coefficients of our model, but not necessarily the coefficients of our fitted model since we will be adding noise to the training dataset."
   ]
  },
  {
   "cell_type": "code",
   "execution_count": 2,
   "metadata": {},
   "outputs": [],
   "source": [
    "m = 3\n",
    "b = 4\n",
    "X = 2 * np.random.rand(100,1)\n",
    "y = m * X + (b + np.random.randn(100,1))"
   ]
  },
  {
   "cell_type": "code",
   "execution_count": 3,
   "metadata": {},
   "outputs": [
    {
     "data": {
      "text/plain": [
       "[0, 2, 0, 15]"
      ]
     },
     "execution_count": 3,
     "metadata": {},
     "output_type": "execute_result"
    },
    {
     "data": {
      "image/png": "[encoded data removed]",
      "text/plain": [
       "<Figure size 432x288 with 1 Axes>"
      ]
     },
     "metadata": {
      "needs_background": "light"
     },
     "output_type": "display_data"
    }
   ],
   "source": [
    "plt.plot(X, y,'b.')\n",
    "plt.xlabel(\"$x$\", fontsize=18)\n",
    "plt.ylabel(\"$y$\", rotation=0, fontsize=18)\n",
    "plt.axis([0,2,0,15])"
   ]
  },
  {
   "cell_type": "markdown",
   "metadata": {},
   "source": [
    "## Analytical Solution: \n",
    "2. When we want to build a model, how to prepare the data?\n",
    "    - training dataset, test dataset.\n",
    "    - in matrix format, dataframes\n",
    "    \n",
    "3. What's the analytical solution for linear regression? Under what circumstance can we or can't we use such solution?"
   ]
  },
  {
   "cell_type": "markdown",
   "metadata": {},
   "source": [
    "Closed form analytical solution: (Simplified version)\n",
    "\n",
    "\\begin{equation}\n",
    "\\begin{split}\n",
    "y & = X \\theta + \\epsilon \\\\\n",
    "X^{T} y & = X^TX\\theta \\\\\n",
    "(X^TX)^{-1}X^{T} y & = \\theta \\\\\n",
    "\\text{thus, }\\ \\hat{\\theta} & = (X^TX)^{-1}X^T y\n",
    "\\end{split}\n",
    "\\end{equation}\n",
    "\n",
    "Exceptions: Inverse of $X^TX$ may not exist\n",
    "- X is non-invertible\n",
    "- X is singular"
   ]
  },
  {
   "cell_type": "markdown",
   "metadata": {},
   "source": [
    "4. How to write python code for the analytical solution?"
   ]
  },
  {
   "cell_type": "code",
   "execution_count": 4,
   "metadata": {},
   "outputs": [
    {
     "name": "stdout",
     "output_type": "stream",
     "text": [
      "[[3.74336758]\n",
      " [3.23182231]]\n"
     ]
    }
   ],
   "source": [
    "# analytical solution\n",
    "X_b = np.c_[np.ones((100,1)), X] # add extra column of all 1's to X\n",
    "theta_optimal = np.linalg.inv( X_b.T.dot(X_b) ).dot(X_b.T).dot(y) # perform the linear algebra inverse, transpose, and multiplication operations\n",
    "# theta_optimal should be close to m and b respectively.\n",
    "print(theta_optimal)"
   ]
  },
  {
   "cell_type": "markdown",
   "metadata": {},
   "source": [
    "## Gradient Descent\n",
    "5. gradient descent math derivation:"
   ]
  },
  {
   "cell_type": "markdown",
   "metadata": {},
   "source": [
    "#### Simple model equation:\n",
    "$$\\hat{Y} = mX + b$$\n",
    ", where gradient $m$ and intercept $b$ are the coefficients. We want to find the optimal coefficients so that the model has the least prediction error:\n",
    "$$\\text{Error} = \\hat{Y} - Y$$\n",
    ", where $\\hat{Y}$ is the predicted target value and $Y$ is the actual ground truth value."
   ]
  },
  {
   "cell_type": "markdown",
   "metadata": {},
   "source": [
    "Formally, we want to minimize the cost function:\n",
    "$$\\text{Cost_Function} = J_{m,b} = \\frac{1}{2} \\cdot \\frac{1}{n} \\sum_{i=1}^N (\\hat{Y}_i - Y_i)^2 = \\frac{1}{2} \\cdot \\frac{1}{n} \\sum_{i=1}^N (\\text{Error}_i)^2$$\n",
    "by _gradually_ change the coefficients to its optimum:\n",
    "$$m_{new} = m_{current} - \\delta m_{current}$$\n",
    "$$b_{new} = b_{current} - \\delta b_{current}$$"
   ]
  },
  {
   "cell_type": "markdown",
   "metadata": {},
   "source": [
    "Simplify the $\\text{Cost_Function}$:\n",
    "\\begin{equation} \n",
    "\\begin{split}\n",
    "J_{m,b} & = \\frac{1}{2n} \\sum_{i=1}^N (\\hat{Y}_i - Y_i)^2 \\\\\n",
    "        & = \\frac{1}{2n} \\sum_{i=1}^N (\\text{Error}_i)^2 \\\\\n",
    "        & \\sim \\text{Error}^2\n",
    "\\end{split}\n",
    "\\end{equation}"
   ]
  },
  {
   "cell_type": "markdown",
   "metadata": {},
   "source": [
    "Derivatives:\n",
    "\\begin{equation} \n",
    "\\begin{split}\n",
    "\\frac{\\partial J_{m,b}}{\\partial m} & = 2 \\cdot \\text{Error} \\cdot \\frac{\\partial}{\\partial m} \\text{Error}\\\\\n",
    "\\frac{\\partial J_{m,b}}{\\partial b} & = 2 \\cdot \\text{Error} \\cdot \\frac{\\partial}{\\partial b} \\text{Error} \n",
    "\\end{split}\n",
    "\\end{equation}\n",
    "\n",
    "\\begin{equation} \n",
    "\\begin{split}\n",
    "\\frac{\\partial}{\\partial m} \\text{Error} & = \\frac{\\partial}{\\partial m}(\\hat{Y} - Y) = \\frac{\\partial}{\\partial m}(mX+b - Y) = X \\\\\n",
    "\\frac{\\partial}{\\partial b} \\text{Error} & = \\frac{\\partial}{\\partial b}(\\hat{Y} - Y) = \\frac{\\partial}{\\partial b}(mX+b - Y) = 1\n",
    "\\end{split}\n",
    "\\end{equation}\n",
    "\n",
    "Chain rule:\n",
    "\\begin{equation} \n",
    "\\begin{split}\n",
    "\\frac{\\partial J_{m,b}}{\\partial m} & = 2 \\cdot \\text{Error} \\cdot X \\cdot \\text{Learning_Rate} = \\text{Error} \\cdot X \\cdot \\alpha \\\\\n",
    "\\frac{\\partial J_{m,b}}{\\partial b} & = 2 \\cdot \\text{Error} \\cdot 1 \\cdot \\text{Learning_Rate} = \\text{Error} \\cdot \\alpha\n",
    "\\end{split}\n",
    "\\end{equation}\n",
    "\n",
    "Thus:\n",
    "$$m_1 = m_0 - \\text{Error} \\cdot X \\cdot \\alpha$$\n",
    "$$b_1 = b_0 - \\text{Error} \\cdot \\alpha$$"
   ]
  },
  {
   "cell_type": "markdown",
   "metadata": {},
   "source": [
    "#### Generalized model equation:\n",
    "$$\\hat{Y} = h_{\\theta}(X)$$\n",
    ", where $\\theta$ carries all parameters of the model. $h$ is the prediction function that takes $X$ to predict $\\hat{Y}$. And similar to the above, the error can be written as:\n",
    "$$\\text{Error} = \\hat{Y} - Y = \\sum_{i=1}^N (h_\\theta(x_i) - y_i)$$\n",
    ", where $\\hat{Y}$ is the predicted target value and $Y$ is the actual ground truth value."
   ]
  },
  {
   "cell_type": "markdown",
   "metadata": {},
   "source": [
    "Re-write the cost function with $\\theta$, and $h$:\n",
    "\n",
    "$$ \\text{Cost_Function} = J_{\\theta} = \\frac{1}{2} \\cdot \\frac{1}{n} \\sum_{i=1}^N (\\text{Error}_i)^2 = \\frac{1}{2n} \\sum_{i=1}^N (h_\\theta(x_i) - y_i)^2$$"
   ]
  },
  {
   "cell_type": "markdown",
   "metadata": {},
   "source": [
    "Using numerical approach; gradient descent, we gradually change $\\theta$ to its optimal:\n",
    "\n",
    "\n",
    "\\begin{equation}\n",
    "\\begin{split}\n",
    "\\theta_{new} &= \\theta_{current} - \\delta \\cdot \\theta_{current} \\\\\n",
    "         &= \\theta_{current} - \\underbrace{\\alpha}_{\\text{Learning_Rate}} \\cdot \\frac{\\partial}{\\partial \\theta} J_\\theta\n",
    "\\end{split}\n",
    "\\end{equation}\n",
    "\n"
   ]
  },
  {
   "cell_type": "markdown",
   "metadata": {},
   "source": [
    "To get $\\frac{\\partial}{\\partial \\theta}J_\\theta$:\n",
    "\\begin{equation}\n",
    "\\begin{split}\n",
    "\\frac{\\partial}{\\partial \\theta} J_\\theta &= \\frac{\\partial}{\\partial \\theta} \\frac{1}{2n} \\sum_{i=1}^N (h_\\theta(x_i) - y_i)^2 \\\\\n",
    "                                          &= \\frac{1}{2n} \\sum_{i=1}^N (h_\\theta(x_i) - y_i) \\cdot 2 \\cdot \\frac{\\partial}{\\partial \\theta_j} (h_\\theta(x_i) - y_i) \\\\\n",
    "                                          &= \\frac{1}{n} \\sum_{i=1}^N (h_\\theta(x_i) - y_i) \\cdot \\frac{\\partial}{\\partial \\theta_j} (h_\\theta(x_i) - y_i) \\\\\n",
    "                                          &= \\frac{1}{n} \\sum_{i=1}^N (h_\\theta(x_i) - y) \\cdot x_i \\\\\n",
    "\\end{split}\n",
    "\\end{equation}"
   ]
  },
  {
   "cell_type": "markdown",
   "metadata": {},
   "source": [
    "Therefore,\n",
    "$$ \\theta_1 = \\theta_0 - \\alpha \\cdot \\frac{1}{n} \\sum_{i=1}^N (h_{\\theta_0}(x_i) - y_i) \\cdot x_i $$"
   ]
  },
  {
   "cell_type": "markdown",
   "metadata": {},
   "source": [
    "## Linear Regression Python class \n",
    "6. Design and write a Linear Regression Python class that enables training and prediction. \n",
    "    - calculate_cost\n",
    "    - gradient_descent\n",
    "    - learning_rate, iterations"
   ]
  },
  {
   "cell_type": "code",
   "execution_count": 5,
   "metadata": {},
   "outputs": [],
   "source": [
    "class SimpleLR:\n",
    "    \n",
    "    def __init__(self, op_algorithm):\n",
    "        self.coef_ = self.cost_ = None\n",
    "        self.op_algorithm = op_algorithm\n",
    "  \n",
    "    def calculate_cost(self,\n",
    "                       X: np.ndarray, y: np.ndarray):\n",
    "        predictions = self._predict(X)\n",
    "        self.cost_ = 1/(2 * len(y)) * np.sum(np.square(predictions - y))\n",
    "\n",
    "    # base gd\n",
    "    def gradient_descent(self, X: np.ndarray, y: np.ndarray,\n",
    "                         alpha: float, iterations: int):\n",
    "        for i in range(iterations):\n",
    "            predictions = self._predict(X)\n",
    "            error = predictions - y\n",
    "            self.coef_ = self.coef_ - alpha * (1/len(y)) * X.transpose().dot(error)\n",
    "            self.calculate_cost(X, y)\n",
    "    \n",
    "    # sgd:\n",
    "    def sgd(self, X: np.ndarray, y: np.ndarray, alpha: float, iterations: int):\n",
    "        sampling_count = len(y)\n",
    "        for i in range(iterations):\n",
    "            for i in range(sampling_count):\n",
    "                random_index = np.random.randint(0, sampling_count)\n",
    "                X_i = X[random_index, :].reshape(1, X.shape[1])\n",
    "                y_i = y[random_index].reshape(1, 1)\n",
    "                prediction_i = np.dot(X_i, self.coef_)\n",
    "                self.coef_ = self.coef_ - alpha * (1/len(y)) * (X_i.transpose().dot(prediction_i - y_i))\n",
    "            self.calculate_cost(X, y)\n",
    "    \n",
    "    # minibatch gd:\n",
    "    def minibatch_gd(self, X: np.ndarray, y: np.ndarray, alpha: float, iterations: int):\n",
    "        total_length = len(y)\n",
    "        # determine mini-batch size:\n",
    "        batch_size = np.random.randint(0, total_length/3)\n",
    "        if batch_size > 6 or batch_size == 0:\n",
    "            batch_size = 6\n",
    "            \n",
    "        for i in range(iterations):\n",
    "            for i in range(0, total_length, batch_size):\n",
    "                X_i = X[i:i+batch_size, :]\n",
    "                y_i = y[i:i+batch_size, :]\n",
    "                \n",
    "                prediction_i = np.dot(X_i, self.coef_)\n",
    "                self.coef_ = self.coef_ - alpha * (1/len(y)) * (X_i.transpose().dot(prediction_i - y_i))\n",
    "            self.calculate_cost(X, y)\n",
    "    \n",
    "    def add_intercept(self, X: np.ndarray):\n",
    "        return np.c_[X, np.ones((X.shape[0], 1))]\n",
    "            \n",
    "    def fit(self, X: np.ndarray,y: np.ndarray, \n",
    "            alpha:float = 0.01, iterations:int = 1000):\n",
    "        X = self.add_intercept(X)\n",
    "        self.coef_ = np.random.randn(X.shape[1],1)\n",
    "        if self.op_algorithm == 'gd':\n",
    "            self.gradient_descent(X, y, alpha, iterations)\n",
    "        elif self.op_algorithm == 'sgd':\n",
    "            self.sgd(X, y, alpha, iterations)\n",
    "        elif self.op_algorithm == 'minibatch':\n",
    "            self.minibatch_gd(X, y, alpha, iterations)\n",
    "\n",
    "    def _predict(self, X: np.ndarray):\n",
    "        return X.dot(self.coef_)\n",
    "    \n",
    "    def predict(self, X: np.ndarray):\n",
    "        X = self.add_intercept(X)\n",
    "        return self._predict(X)"
   ]
  },
  {
   "cell_type": "markdown",
   "metadata": {},
   "source": [
    "Run a test:"
   ]
  },
  {
   "cell_type": "code",
   "execution_count": 6,
   "metadata": {},
   "outputs": [],
   "source": [
    "# copy from the previous section:\n",
    "m = 3\n",
    "b = 4\n",
    "X = 2 * np.random.rand(100,1)\n",
    "y = m * X + (b + np.random.randn(100,1))"
   ]
  },
  {
   "cell_type": "code",
   "execution_count": 7,
   "metadata": {},
   "outputs": [
    {
     "name": "stdout",
     "output_type": "stream",
     "text": [
      "m = [3.04246703], b = [4.01233047]\n",
      "cost = 0.5546021513052887\n"
     ]
    }
   ],
   "source": [
    "lr = SimpleLR('gd')\n",
    "lr.fit(X, y)\n",
    "\n",
    "theta_final = lr.coef_\n",
    "cost_final  = lr.cost_\n",
    "\n",
    "print(f'm = {theta_final[0]}, b = {theta_final[1]}')\n",
    "print(f'cost = {cost_final}')"
   ]
  },
  {
   "cell_type": "markdown",
   "metadata": {},
   "source": [
    "## Stochastic Gradient Descent\n",
    "\n",
    "In reality, when our training data is huge. We have to figure out how to train a model computational effectively. \n",
    "\n",
    "Difference:\n",
    "- Whole data set vs. single data point\n",
    "- SGD needs more iterations to reach minima but computationally effective. \n",
    "\n",
    "  \n",
    "7. Improve `SimpleLR` class with new `sgd` function."
   ]
  },
  {
   "cell_type": "code",
   "execution_count": 8,
   "metadata": {},
   "outputs": [],
   "source": [
    "# sgd:\n",
    "# run within previous class\n",
    "def sgd(self, X: np.ndarray, y: np.ndarray, alpha: float, iterations: int):\n",
    "    sampling_count = len(y)\n",
    "    for i in range(iterations):\n",
    "        for i in range(sampling_count):\n",
    "            random_index = np.random.randint(0, sampling_count)\n",
    "            X_i = X[random_index, :].reshape(1, X.shape[1])\n",
    "            y_i = y[random_index].reshape(1, 1)\n",
    "            prediction_i = np.dot(X_i, self.coef_)\n",
    "            self.coef_ = self.coef_ - alpha * (1/len(y)) * (X_i.transpose().dot(prediction_i - y_i))\n",
    "        self.calculate_cost(X, y)"
   ]
  },
  {
   "cell_type": "code",
   "execution_count": 9,
   "metadata": {},
   "outputs": [
    {
     "name": "stdout",
     "output_type": "stream",
     "text": [
      "m = [2.85851072], b = [4.2450854]\n",
      "cost = 0.5496362335922517\n"
     ]
    }
   ],
   "source": [
    "# run a test:\n",
    "lr = SimpleLR('sgd')\n",
    "lr.fit(X, y)\n",
    "\n",
    "theta_final = lr.coef_\n",
    "cost_final  = lr.cost_\n",
    "\n",
    "print(f'm = {theta_final[0]}, b = {theta_final[1]}')\n",
    "print(f'cost = {cost_final}')"
   ]
  },
  {
   "cell_type": "markdown",
   "metadata": {},
   "source": [
    "## Mini-batch Gradient Descent (Optional)\n",
    "Depends on the size of a mini-batch, the updates of coefficients can be less noisier than SGD. "
   ]
  },
  {
   "cell_type": "code",
   "execution_count": 10,
   "metadata": {},
   "outputs": [
    {
     "name": "stdout",
     "output_type": "stream",
     "text": [
      "m = [3.01582336], b = [4.04505173]\n",
      "cost = 0.5532115562203955\n"
     ]
    }
   ],
   "source": [
    "# run a test:\n",
    "lr = SimpleLR('minibatch')\n",
    "lr.fit(X, y)\n",
    "\n",
    "theta_final = lr.coef_\n",
    "cost_final  = lr.cost_\n",
    "\n",
    "print(f'm = {theta_final[0]}, b = {theta_final[1]}')\n",
    "print(f'cost = {cost_final}')"
   ]
  },
  {
   "cell_type": "markdown",
   "metadata": {},
   "source": [
    "## Regularization\n",
    "If we overfit our training data, our predictions may not generalize well to _new_ unseen data. Introduce regularization. "
   ]
  },
  {
   "cell_type": "markdown",
   "metadata": {},
   "source": [
    "$$J_\\theta = \\frac{1}{2N} \\sum_{i=1}^N (h_\\theta(x_i) - y_i)^2 + \\frac{1}{2}\\cdot \\lambda ||\\theta||^2$$"
   ]
  },
  {
   "cell_type": "code",
   "execution_count": null,
   "metadata": {},
   "outputs": [],
   "source": []
  }
 ],
 "metadata": {
  "kernelspec": {
   "display_name": "Python 3",
   "language": "python",
   "name": "python3"
  },
  "language_info": {
   "codemirror_mode": {
    "name": "ipython",
    "version": 3
   },
   "file_extension": ".py",
   "mimetype": "text/x-python",
   "name": "python",
   "nbconvert_exporter": "python",
   "pygments_lexer": "ipython3",
   "version": "3.7.1"
  },
  "toc": {
   "base_numbering": 1,
   "nav_menu": {},
   "number_sections": true,
   "sideBar": true,
   "skip_h1_title": false,
   "title_cell": "Table of Contents",
   "title_sidebar": "Contents",
   "toc_cell": false,
   "toc_position": {},
   "toc_section_display": true,
   "toc_window_display": false
  }
 },
 "nbformat": 4,
 "nbformat_minor": 2
}
