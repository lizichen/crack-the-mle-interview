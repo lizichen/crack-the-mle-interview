{
 "cells": [
  {
   "cell_type": "markdown",
   "metadata": {},
   "source": [
    "# 2 eggs and 100 floors\n",
    "- All eggs are the same.\n",
    "- We drop the egg from a particular floor, it breaks or survives. If it survives we can throw the same egg from a higher floor. How many attempts do we need to identify the **max** floor at which the egg doesn't break when thrown down?"
   ]
  },
  {
   "cell_type": "markdown",
   "metadata": {},
   "source": [
    "## OO Class Design:"
   ]
  },
  {
   "cell_type": "code",
   "execution_count": 1,
   "metadata": {},
   "outputs": [],
   "source": [
    "class Egg:\n",
    "    \n",
    "    def __init__(self, break_floor: int):\n",
    "        \"\"\"\n",
    "        break_floor: an integer determines the floor that such egg will break at.\n",
    "        \"\"\"\n",
    "        self.break_floor = break_floor\n",
    "\n",
    "class Building:\n",
    "    \n",
    "    def __init__(self, \n",
    "                 max_floor: int):\n",
    "        \"\"\"\n",
    "        Initialize a floor and the type of egg.\n",
    "        max_floor: the highest floor number\n",
    "        egg: the type of egg that will be thrown on different floors of this building. \n",
    "        \"\"\"\n",
    "        self.floor_range = range(1, max_floor + 1)\n",
    "        \n",
    "    def throw_egg(self, \n",
    "                  egg: Egg,\n",
    "                  current_floor: int) -> bool:\n",
    "        \"\"\"\n",
    "        throw an `egg` on the `current_floor` \n",
    "        based on egg's break_floor, return:\n",
    "            True: if the egg breaks\n",
    "            False: the egg does not break. \n",
    "        \"\"\"\n",
    "        if current_floor not in self.floor_range:\n",
    "            print(f'Error: invalid floor {current_floor}')\n",
    "            return False\n",
    "        \n",
    "        # if current_floor is at or higher than the egg's break_floor, then it should break\n",
    "        return current_floor >= egg.break_floor"
   ]
  },
  {
   "cell_type": "markdown",
   "metadata": {},
   "source": [
    "## Simulation Helper function (optional)"
   ]
  },
  {
   "cell_type": "code",
   "execution_count": 2,
   "metadata": {},
   "outputs": [],
   "source": [
    "import numpy as np\n",
    "import matplotlib.pyplot as plt\n",
    "\n",
    "def simulate(throw_egg_function, max_floor = 100):\n",
    "    \"\"\"\n",
    "    Simulate throwing egg functions for all `egg_break_floor` values\n",
    "    \"\"\"\n",
    "    expected_value = 0\n",
    "    results = np.zeros(shape=(1,2))\n",
    "    building = Building(max_floor)\n",
    "    \n",
    "    # starting with the egg that break on the first floor\n",
    "    for egg_break_floor in range(1, max_floor):\n",
    "        current_egg = Egg(egg_break_floor)\n",
    "        number_of_trials = throw_egg_function(building, current_egg)\n",
    "        expected_value += number_of_trials\n",
    "        results = np.append(results, [[egg_break_floor, number_of_trials]], axis=0)\n",
    "     \n",
    "    expected_value = expected_value/(max_floor - 1)\n",
    "    \n",
    "    plt.plot(results[:,1], marker='.')\n",
    "    plt.title(f'Simulation on {throw_egg_function.__name__}, expected number of throws={expected_value:.3f}')\n",
    "    plt.xlabel('Egg-break floor')\n",
    "    plt.ylabel('Number of trials')\n",
    "    plt.show()    "
   ]
  },
  {
   "cell_type": "markdown",
   "metadata": {},
   "source": [
    "## 1 egg and 100 floors (naive question):"
   ]
  },
  {
   "cell_type": "code",
   "execution_count": 3,
   "metadata": {},
   "outputs": [],
   "source": [
    "def throw_1_egg(building: Building, egg: Egg) -> int:\n",
    "    \"\"\"\n",
    "    Throw a type of Egg on a building, return the number of throws to determine if the Egg will break. \n",
    "    \"\"\"\n",
    "    throw_count = 0\n",
    "    for i_th_floor in building.floor_range:\n",
    "        throw_count += 1\n",
    "        if building.throw_egg(egg, i_th_floor):\n",
    "            break        \n",
    "    return throw_count"
   ]
  },
  {
   "cell_type": "code",
   "execution_count": 4,
   "metadata": {},
   "outputs": [
    {
     "name": "stdout",
     "output_type": "stream",
     "text": [
      "Need to throw 59 times.\n"
     ]
    }
   ],
   "source": [
    "t1 = Building(max_floor=100)\n",
    "egg = Egg(59)\n",
    "print(f'Need to throw {throw_1_egg(t1, egg)} times.')"
   ]
  },
  {
   "cell_type": "code",
   "execution_count": 5,
   "metadata": {},
   "outputs": [
    {
     "data": {
      "image/png": "[encoded data removed]",
      "text/plain": [
       "<Figure size 432x288 with 1 Axes>"
      ]
     },
     "metadata": {
      "needs_background": "light"
     },
     "output_type": "display_data"
    },
    {
     "name": "stdout",
     "output_type": "stream",
     "text": [
      "CPU times: user 259 ms, sys: 27.9 ms, total: 287 ms\n",
      "Wall time: 130 ms\n"
     ]
    }
   ],
   "source": [
    "%time simulate(throw_1_egg, 100)"
   ]
  },
  {
   "cell_type": "markdown",
   "metadata": {},
   "source": [
    "## unlimited eggs and 100 floors (binary search):"
   ]
  },
  {
   "cell_type": "code",
   "execution_count": 6,
   "metadata": {},
   "outputs": [],
   "source": [
    "def throw_unlimited_eggs(building: Building, \n",
    "                         egg: Egg) -> int:\n",
    "    \"\"\"\n",
    "    throw an egg in the middle floor of the building, \n",
    "    binary search based on if the egg break (move down) or not (move up).\n",
    "    \"\"\"\n",
    "\n",
    "    b_min = min(list(building.floor_range))\n",
    "    b_max = max(list(building.floor_range))\n",
    "    \n",
    "    current_floor = b_min + (b_max-b_min)/2\n",
    "    throw_count = 0\n",
    "    \n",
    "    binary_search(building, egg, current_floor, \n",
    "                  b_min, b_max, \n",
    "                  throw_count)\n",
    "    \n",
    "    return throw_count"
   ]
  },
  {
   "cell_type": "code",
   "execution_count": 7,
   "metadata": {},
   "outputs": [],
   "source": [
    "def binary_search(building, egg, current_floor, \n",
    "                  b_min, b_max, \n",
    "                  throw_count):\n",
    "    pass"
   ]
  },
  {
   "cell_type": "markdown",
   "metadata": {},
   "source": [
    "## 2 eggs and 100 floors (easy solution):"
   ]
  },
  {
   "cell_type": "code",
   "execution_count": 7,
   "metadata": {},
   "outputs": [],
   "source": [
    "def _throw_first_egg(building: Building, egg: Egg) -> (int, int, int):\n",
    "    \"\"\"\n",
    "    Throw the first egg on floor 10th, 20th, 30th, etc\n",
    "    \"\"\"\n",
    "    bucket_size = 10\n",
    "    throwing_floor = 10\n",
    "    throw_count = 1\n",
    "    \n",
    "    while throwing_floor < max(list(building.floor_range)):\n",
    "        if building.throw_egg(egg, throwing_floor):\n",
    "            break\n",
    "        else:\n",
    "            throwing_floor += bucket_size\n",
    "            throw_count += 1\n",
    "    return throw_count, throwing_floor, bucket_size\n",
    "            \n",
    "def _throw_second_egg(building, egg, throw_count, throwing_floor, bucket_size) -> (int, int):\n",
    "    \"\"\"\n",
    "    Now that we know the first egg broke after throwing at; i.e., 20th floor, let's try:\n",
    "    throw the second egg on floor 11th, 12th, 13th, ..., 19th\n",
    "    \"\"\"\n",
    "    throw_count += 1\n",
    "    initial_throwing_floor = throwing_floor\n",
    "    throwing_floor = throwing_floor - bucket_size + 1\n",
    "\n",
    "    while ((throwing_floor in building.floor_range) \n",
    "           and (not building.throw_egg(egg, throwing_floor)) \n",
    "           and (throwing_floor != initial_throwing_floor)):\n",
    "        throwing_floor += 1\n",
    "        throw_count += 1\n",
    "        \n",
    "    return throw_count, throwing_floor\n",
    "\n",
    "def throw_2_eggs(building: Building, egg: Egg) -> int:\n",
    "    throw_count, throwing_floor, bucket_size = _throw_first_egg(building, egg)\n",
    "    throw_count, throwing_floor = _throw_second_egg(building, egg, throw_count, throwing_floor, bucket_size)\n",
    "    return throw_count"
   ]
  },
  {
   "cell_type": "code",
   "execution_count": 8,
   "metadata": {},
   "outputs": [
    {
     "name": "stdout",
     "output_type": "stream",
     "text": [
      "Need to throw 14 times.\n"
     ]
    }
   ],
   "source": [
    "t3 = Building(max_floor=100)\n",
    "egg=Egg(40)\n",
    "print(f'Need to throw {throw_2_eggs(t3, egg)} times.')"
   ]
  },
  {
   "cell_type": "code",
   "execution_count": 9,
   "metadata": {},
   "outputs": [
    {
     "data": {
      "image/png": "[encoded data removed]",
      "text/plain": [
       "<Figure size 432x288 with 1 Axes>"
      ]
     },
     "metadata": {
      "needs_background": "light"
     },
     "output_type": "display_data"
    },
    {
     "name": "stdout",
     "output_type": "stream",
     "text": [
      "CPU times: user 246 ms, sys: 28.7 ms, total: 275 ms\n",
      "Wall time: 111 ms\n"
     ]
    }
   ],
   "source": [
    "%time simulate(throw_2_eggs, 100)"
   ]
  },
  {
   "cell_type": "markdown",
   "metadata": {},
   "source": [
    "## 2 eggs and 100 floors (improved solution):\n",
    "Throw the first egg at floors that are separated by n, n-1, n-2, ... , 1, so that we have:\n",
    "\\begin{equation}\n",
    "\\begin{split}\n",
    "n + (n-1) + (n-2) + ... + 1 &= 100 \\\\\n",
    "\\frac{(n+1)*n}{2} &= 100 \\\\\n",
    "n &= 14\n",
    "\\end{split}\n",
    "\\end{equation}"
   ]
  },
  {
   "cell_type": "code",
   "execution_count": 10,
   "metadata": {},
   "outputs": [],
   "source": [
    "import math\n",
    "\n",
    "def _calculate_n(building: Building):\n",
    "    \"\"\"\n",
    "    m = max(list(floor.floor_range))\n",
    "    (n+1)*n/2 = m\n",
    "    n = (sqrt(1+8m) - 1)/2\n",
    "    \"\"\"\n",
    "    m = max(list(building.floor_range))\n",
    "    result = (math.sqrt(1+8*m) - 1)/2\n",
    "    return math.ceil(result)\n",
    "\n",
    "def _throw_first_egg_2(building: Building, egg: Egg) -> (int, int):\n",
    "    \"\"\"\n",
    "    Throw the first egg on floor 10th, 20th, 30th, etc\n",
    "    \"\"\"\n",
    "    bucket_size = _calculate_n(building)\n",
    "    throwing_floor = bucket_size\n",
    "    throw_count = 1\n",
    "    \n",
    "    while throwing_floor < max(list(building.floor_range)):\n",
    "        if building.throw_egg(egg, throwing_floor):\n",
    "            break\n",
    "        else:\n",
    "            bucket_size -= 1\n",
    "            throwing_floor += bucket_size\n",
    "            throw_count += 1\n",
    "    return throw_count, throwing_floor, bucket_size\n",
    "\n",
    "def throw_2_eggs_2(building: Building, egg: Egg) -> int:\n",
    "    throw_count, throwing_floor, bucket_size = _throw_first_egg_2(building, egg)\n",
    "    throw_count, throwing_floor = _throw_second_egg(building, egg, throw_count, throwing_floor, bucket_size)\n",
    "    return throw_count"
   ]
  },
  {
   "cell_type": "code",
   "execution_count": 11,
   "metadata": {},
   "outputs": [
    {
     "data": {
      "text/plain": [
       "3"
      ]
     },
     "execution_count": 11,
     "metadata": {},
     "output_type": "execute_result"
    }
   ],
   "source": [
    "egg = Egg(2)\n",
    "t4 = Building(max_floor=100)\n",
    "throw_2_eggs_2(t4, egg)"
   ]
  },
  {
   "cell_type": "code",
   "execution_count": 12,
   "metadata": {},
   "outputs": [
    {
     "data": {
      "image/png": "[encoded data removed]",
      "text/plain": [
       "<Figure size 432x288 with 1 Axes>"
      ]
     },
     "metadata": {
      "needs_background": "light"
     },
     "output_type": "display_data"
    },
    {
     "name": "stdout",
     "output_type": "stream",
     "text": [
      "CPU times: user 244 ms, sys: 24.7 ms, total: 268 ms\n",
      "Wall time: 108 ms\n"
     ]
    }
   ],
   "source": [
    "%time simulate(throw_2_eggs_2, 100)"
   ]
  },
  {
   "cell_type": "markdown",
   "metadata": {},
   "source": [
    "## Generalization: N eggs and T floors (Dynamic Programming):"
   ]
  },
  {
   "cell_type": "markdown",
   "metadata": {},
   "source": [
    "We want to know how many times of throws are needed at least, $M(T, N)$\n",
    "\n",
    "| T / N | 1 | 2 | 3 | 4 |\n",
    "|------------------------|---|---|---|---|\n",
    "| 1                      | 1 | 1 | 1 | 1 |\n",
    "| 2                      | 2 | _ | _ | _ |\n",
    "| 3                      | 3 | _ | _ | _ |\n",
    "\n",
    "\n",
    "Pick a floor $k$ to throw the first egg, then we have:\n",
    "$$M_k(T, N) = max\\big \\{M(k, N-1), M(T-k, N) \\big \\} + 1$$\n",
    ", where $M(k, N-1)$ means the first throw at floor $k$ results a broken egg, and $M(N-k, N)$ means the first throws does not have the egg broken from floor $k$. The value $M(k, N-1)$ and $M(N-k, N)$ both mean numbers of throws needed afterwords. \n",
    "\n",
    "The $+1$ counts towards the current throw at floor $k$. \n",
    "\n",
    "Thus, for a given building with T floors, we have:\n",
    "$$M(T, N) = min \\big \\{ M_1(T, N), M_2(T, N), M_3(T, N), ..., M_T(T, N) \\big \\}$$\n"
   ]
  },
  {
   "cell_type": "code",
   "execution_count": null,
   "metadata": {},
   "outputs": [],
   "source": []
  }
 ],
 "metadata": {
  "kernelspec": {
   "display_name": "Python 3",
   "language": "python",
   "name": "python3"
  },
  "language_info": {
   "codemirror_mode": {
    "name": "ipython",
    "version": 3
   },
   "file_extension": ".py",
   "mimetype": "text/x-python",
   "name": "python",
   "nbconvert_exporter": "python",
   "pygments_lexer": "ipython3",
   "version": "3.7.1"
  }
 },
 "nbformat": 4,
 "nbformat_minor": 2
}
