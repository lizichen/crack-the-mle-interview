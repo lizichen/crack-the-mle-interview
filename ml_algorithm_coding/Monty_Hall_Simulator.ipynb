{
 "cells": [
  {
   "cell_type": "markdown",
   "metadata": {},
   "source": [
    "## Simulate the decision making process for Monty Hall Problem\n",
    "- Always switch!"
   ]
  },
  {
   "cell_type": "code",
   "execution_count": 1,
   "metadata": {},
   "outputs": [],
   "source": [
    "import random\n",
    "random.seed(0)"
   ]
  },
  {
   "cell_type": "code",
   "execution_count": 2,
   "metadata": {},
   "outputs": [],
   "source": [
    "class Monty_Hall_Problem:\n",
    "    \n",
    "    def __init__(self, number_of_doors:int):\n",
    "        self.number_of_doors = number_of_doors\n",
    "        self.opened_doors = set([])\n",
    "        self.car_index = random.randint(1, self.number_of_doors) \n",
    "    \n",
    "    def first_pick(self):\n",
    "        self.first_picked_door = random.randint(1, self.number_of_doors+1)\n",
    "        self.opened_doors.add(self.first_picked_door)\n",
    "        self._reveal_more_zonks()\n",
    "        self.candidate_door_to_switch = self._pick_candidate_door_to_switch()\n",
    "    \n",
    "    def second_pick(self, switch:bool):\n",
    "        self.switched = switch\n",
    "        if switch:\n",
    "            self.second_picked_door = self.candidate_door_to_switch\n",
    "        else:\n",
    "            self.second_picked_door = self.first_picked_door \n",
    "        \n",
    "    def _reveal_more_zonks(self):\n",
    "        \"\"\"Open doors except `self.car_index` and/or `self.first_picked_door` and only leave one door closed.\n",
    "        \"\"\"\n",
    "        closed_doors = list(range(1, self.number_of_doors+1))\n",
    "        \n",
    "        if self.first_picked_door == self.car_index:\n",
    "            closed_doors = [x for x in closed_doors if x != self.car_index]\n",
    "            open_more_zonk_doors = random.sample(closed_doors, len(closed_doors)-1)\n",
    "        else:\n",
    "            open_more_zonk_doors = [x for x in closed_doors if x not in [self.car_index, self.first_picked_door]]\n",
    "\n",
    "        self.opened_doors.update(open_more_zonk_doors) \n",
    "    \n",
    "    def _pick_candidate_door_to_switch(self):\n",
    "        all_doors = set(list(range(1, self.number_of_doors+1)))\n",
    "        last_two_closed_doors = (all_doors - self.opened_doors)\n",
    "        return random.sample(last_two_closed_doors, 1)[0]\n",
    "        \n",
    "    def evaluate(self):\n",
    "        \"\"\"Return: 1 means picked Car, 0 means picked Zonk\n",
    "        \"\"\"\n",
    "        if self.second_picked_door == self.car_index:\n",
    "            return 1 \n",
    "        else:\n",
    "            return 0"
   ]
  },
  {
   "cell_type": "code",
   "execution_count": 3,
   "metadata": {},
   "outputs": [
    {
     "name": "stdout",
     "output_type": "stream",
     "text": [
      "9885\n",
      "0.9885\n"
     ]
    }
   ],
   "source": [
    "total_trials = 10000\n",
    "total_number_of_doors = 100\n",
    "switch_decision = True\n",
    "\n",
    "car_count = 0\n",
    "\n",
    "for i in range(total_trials):\n",
    "    x = Monty_Hall_Problem(total_number_of_doors)\n",
    "    \n",
    "    x.first_pick()\n",
    "    x.second_pick(switch_decision)\n",
    "    car_count += x.evaluate()\n",
    "    \n",
    "print(car_count)\n",
    "print(car_count/total_trials)"
   ]
  },
  {
   "cell_type": "code",
   "execution_count": null,
   "metadata": {},
   "outputs": [],
   "source": []
  }
 ],
 "metadata": {
  "kernelspec": {
   "display_name": "Python 3",
   "language": "python",
   "name": "python3"
  },
  "language_info": {
   "codemirror_mode": {
    "name": "ipython",
    "version": 3
   },
   "file_extension": ".py",
   "mimetype": "text/x-python",
   "name": "python",
   "nbconvert_exporter": "python",
   "pygments_lexer": "ipython3",
   "version": "3.7.1"
  }
 },
 "nbformat": 4,
 "nbformat_minor": 2
}
