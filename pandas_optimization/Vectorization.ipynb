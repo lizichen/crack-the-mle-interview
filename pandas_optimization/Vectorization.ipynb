{
 "cells": [
  {
   "cell_type": "code",
   "execution_count": 1,
   "metadata": {},
   "outputs": [],
   "source": [
    "import pandas as pd\n",
    "import numpy as np\n",
    "from math import *"
   ]
  },
  {
   "cell_type": "markdown",
   "metadata": {},
   "source": [
    "Original Blog: https://engineering.upside.com/a-beginners-guide-to-optimizing-pandas-code-for-speed-c09ef2c6a4d6\n",
    "\n",
    "Load Data"
   ]
  },
  {
   "cell_type": "code",
   "execution_count": 2,
   "metadata": {},
   "outputs": [],
   "source": [
    "df = pd.read_csv('new_york_hotels.csv', encoding='cp1252')"
   ]
  },
  {
   "cell_type": "code",
   "execution_count": 3,
   "metadata": {},
   "outputs": [
    {
     "data": {
      "text/plain": [
       "ean_hotel_id        int64\n",
       "name               object\n",
       "address1           object\n",
       "city               object\n",
       "state_province     object\n",
       "postal_code        object\n",
       "latitude          float64\n",
       "longitude         float64\n",
       "star_rating       float64\n",
       "high_rate         float64\n",
       "low_rate          float64\n",
       "dtype: object"
      ]
     },
     "execution_count": 3,
     "metadata": {},
     "output_type": "execute_result"
    }
   ],
   "source": [
    "df.dtypes"
   ]
  },
  {
   "cell_type": "code",
   "execution_count": 4,
   "metadata": {},
   "outputs": [],
   "source": [
    "# Define a basic Haversine distance formula\n",
    "def haversine(lat1, lon1, lat2, lon2):\n",
    "    MILES = 3959\n",
    "    lat1, lon1, lat2, lon2 = map(np.deg2rad, [lat1, lon1, lat2, lon2])\n",
    "    dlat = lat2 - lat1 \n",
    "    dlon = lon2 - lon1 \n",
    "    a = np.sin(dlat/2)**2 + np.cos(lat1) * np.cos(lat2) * np.sin(dlon/2)**2\n",
    "    c = 2 * np.arcsin(np.sqrt(a)) \n",
    "    total_miles = MILES * c\n",
    "    return total_miles"
   ]
  },
  {
   "cell_type": "code",
   "execution_count": 5,
   "metadata": {},
   "outputs": [],
   "source": [
    "df_loop = df.copy()"
   ]
  },
  {
   "cell_type": "markdown",
   "metadata": {},
   "source": [
    "Crude Loop"
   ]
  },
  {
   "cell_type": "code",
   "execution_count": 6,
   "metadata": {},
   "outputs": [],
   "source": [
    "# Define a function to manually loop over all rows and return a series of distances\n",
    "def haversine_looping(df):\n",
    "    distance_list = []\n",
    "    for i in range(0, len(df)):\n",
    "        d = haversine(40.671, -73.985, df.iloc[i]['latitude'], df.iloc[i]['longitude'])\n",
    "        distance_list.append(d)\n",
    "    return distance_list"
   ]
  },
  {
   "cell_type": "code",
   "execution_count": 7,
   "metadata": {},
   "outputs": [
    {
     "name": "stdout",
     "output_type": "stream",
     "text": [
      "475 ms ± 25.6 ms per loop (mean ± std. dev. of 7 runs, 1 loop each)\n"
     ]
    }
   ],
   "source": [
    "%%timeit\n",
    "# Run the haversine looping function\n",
    "df_loop['distance'] = haversine_looping(df_loop)"
   ]
  },
  {
   "cell_type": "markdown",
   "metadata": {},
   "source": [
    "Iterrows"
   ]
  },
  {
   "cell_type": "code",
   "execution_count": 8,
   "metadata": {},
   "outputs": [
    {
     "name": "stdout",
     "output_type": "stream",
     "text": [
      "159 ms ± 1.95 ms per loop (mean ± std. dev. of 7 runs, 10 loops each)\n"
     ]
    }
   ],
   "source": [
    "%%timeit\n",
    "# Haversine applied on rows via iteration\n",
    "haversine_series = []\n",
    "for index, row in df.iterrows():\n",
    "    haversine_series.append(haversine(40.671, -73.985, row['latitude'], row['longitude']))\n",
    "\n",
    "df_loop['distance'] = haversine_series"
   ]
  },
  {
   "cell_type": "markdown",
   "metadata": {},
   "source": [
    "apply"
   ]
  },
  {
   "cell_type": "code",
   "execution_count": 9,
   "metadata": {},
   "outputs": [
    {
     "name": "stdout",
     "output_type": "stream",
     "text": [
      "51.1 ms ± 1.65 ms per loop (mean ± std. dev. of 7 runs, 10 loops each)\n"
     ]
    }
   ],
   "source": [
    "%%timeit \n",
    "df_loop['distance'] = df_loop.apply(lambda row: haversine(40.671, -73.985, row['latitude'], row['longitude']), axis=1)"
   ]
  },
  {
   "cell_type": "code",
   "execution_count": 10,
   "metadata": {},
   "outputs": [],
   "source": [
    "# Load the profiler into your Jupyter notebook\n",
    "%load_ext line_profiler"
   ]
  },
  {
   "cell_type": "code",
   "execution_count": 11,
   "metadata": {},
   "outputs": [
    {
     "data": {
      "text/plain": [
       "'\\nTimer unit: 1e-06 s\\n\\nTotal time: 0.034127 s\\nFile: <ipython-input-4-1f441d863f0f>\\nFunction: haversine at line 2\\n\\nLine #      Hits         Time  Per Hit   % Time  Line Contents\\n==============================================================\\n     2                                           def haversine(lat1, lon1, lat2, lon2):\\n     3      1631        775.0      0.5      2.3      MILES = 3959\\n     4      1631       8232.0      5.0     24.1      lat1, lon1, lat2, lon2 = map(np.deg2rad, [lat1, lon1, lat2, lon2])\\n     5      1631        980.0      0.6      2.9      dlat = lat2 - lat1 \\n     6      1631        733.0      0.4      2.1      dlon = lon2 - lon1 \\n     7      1631      15243.0      9.3     44.7      a = np.sin(dlat/2)**2 + np.cos(lat1) * np.cos(lat2) * np.sin(dlon/2)**2\\n     8      1631       6392.0      3.9     18.7      c = 2 * np.arcsin(np.sqrt(a)) \\n     9      1631       1169.0      0.7      3.4      total_miles = MILES * c\\n    10      1631        603.0      0.4      1.8      return total_miles\\n'"
      ]
     },
     "execution_count": 11,
     "metadata": {},
     "output_type": "execute_result"
    }
   ],
   "source": [
    "%lprun -f haversine \\\n",
    "df_loop.apply(lambda row: haversine(40.671, -73.985, row['latitude'], row['longitude']), axis=1)\n",
    "\"\"\"\n",
    "Timer unit: 1e-06 s\n",
    "\n",
    "Total time: 0.034127 s\n",
    "File: <ipython-input-4-1f441d863f0f>\n",
    "Function: haversine at line 2\n",
    "\n",
    "Line #      Hits         Time  Per Hit   % Time  Line Contents\n",
    "==============================================================\n",
    "     2                                           def haversine(lat1, lon1, lat2, lon2):\n",
    "     3      1631        775.0      0.5      2.3      MILES = 3959\n",
    "     4      1631       8232.0      5.0     24.1      lat1, lon1, lat2, lon2 = map(np.deg2rad, [lat1, lon1, lat2, lon2])\n",
    "     5      1631        980.0      0.6      2.9      dlat = lat2 - lat1 \n",
    "     6      1631        733.0      0.4      2.1      dlon = lon2 - lon1 \n",
    "     7      1631      15243.0      9.3     44.7      a = np.sin(dlat/2)**2 + np.cos(lat1) * np.cos(lat2) * np.sin(dlon/2)**2\n",
    "     8      1631       6392.0      3.9     18.7      c = 2 * np.arcsin(np.sqrt(a)) \n",
    "     9      1631       1169.0      0.7      3.4      total_miles = MILES * c\n",
    "    10      1631        603.0      0.4      1.8      return total_miles\n",
    "\"\"\""
   ]
  },
  {
   "cell_type": "markdown",
   "metadata": {},
   "source": [
    "#### Vectorization on Pandas Series"
   ]
  },
  {
   "cell_type": "code",
   "execution_count": 12,
   "metadata": {},
   "outputs": [
    {
     "name": "stdout",
     "output_type": "stream",
     "text": [
      "2.4 ms ± 502 µs per loop (mean ± std. dev. of 7 runs, 100 loops each)\n"
     ]
    }
   ],
   "source": [
    "%%timeit \n",
    "# Vectorized implementation of Haversine applied on Pandas series\n",
    "df['distance'] = haversine(40.671, -73.985, df['latitude'], df['longitude'])"
   ]
  },
  {
   "cell_type": "code",
   "execution_count": 13,
   "metadata": {},
   "outputs": [
    {
     "data": {
      "text/plain": [
       "'\\nTimer unit: 1e-06 s\\n\\nTotal time: 0.009673 s\\nFile: <ipython-input-4-1f441d863f0f>\\nFunction: haversine at line 2\\n\\nLine #      Hits         Time  Per Hit   % Time  Line Contents\\n==============================================================\\n     2                                           def haversine(lat1, lon1, lat2, lon2):\\n     3         1          2.0      2.0      0.0      MILES = 3959\\n     4         1       2787.0   2787.0     28.8      lat1, lon1, lat2, lon2 = map(np.deg2rad, [lat1, lon1, lat2, lon2])\\n     5         1       1644.0   1644.0     17.0      dlat = lat2 - lat1 \\n     6         1        319.0    319.0      3.3      dlon = lon2 - lon1 \\n     7         1       3824.0   3824.0     39.5      a = np.sin(dlat/2)**2 + np.cos(lat1) * np.cos(lat2) * np.sin(dlon/2)**2\\n     8         1        800.0    800.0      8.3      c = 2 * np.arcsin(np.sqrt(a)) \\n     9         1        296.0    296.0      3.1      total_miles = MILES * c\\n    10         1          1.0      1.0      0.0      return total_miles\\n'"
      ]
     },
     "execution_count": 13,
     "metadata": {},
     "output_type": "execute_result"
    }
   ],
   "source": [
    "# Vectorized implementation profile\n",
    "%lprun -f haversine haversine(40.671, -73.985,\\\n",
    "                              df['latitude'], df['longitude'])\n",
    "\"\"\"\n",
    "Timer unit: 1e-06 s\n",
    "\n",
    "Total time: 0.009673 s\n",
    "File: <ipython-input-4-1f441d863f0f>\n",
    "Function: haversine at line 2\n",
    "\n",
    "Line #      Hits         Time  Per Hit   % Time  Line Contents\n",
    "==============================================================\n",
    "     2                                           def haversine(lat1, lon1, lat2, lon2):\n",
    "     3         1          2.0      2.0      0.0      MILES = 3959\n",
    "     4         1       2787.0   2787.0     28.8      lat1, lon1, lat2, lon2 = map(np.deg2rad, [lat1, lon1, lat2, lon2])\n",
    "     5         1       1644.0   1644.0     17.0      dlat = lat2 - lat1 \n",
    "     6         1        319.0    319.0      3.3      dlon = lon2 - lon1 \n",
    "     7         1       3824.0   3824.0     39.5      a = np.sin(dlat/2)**2 + np.cos(lat1) * np.cos(lat2) * np.sin(dlon/2)**2\n",
    "     8         1        800.0    800.0      8.3      c = 2 * np.arcsin(np.sqrt(a)) \n",
    "     9         1        296.0    296.0      3.1      total_miles = MILES * c\n",
    "    10         1          1.0      1.0      0.0      return total_miles\n",
    "\"\"\""
   ]
  },
  {
   "cell_type": "markdown",
   "metadata": {},
   "source": [
    "#### Vectorization on NumPy arrays"
   ]
  },
  {
   "cell_type": "code",
   "execution_count": 14,
   "metadata": {},
   "outputs": [
    {
     "name": "stdout",
     "output_type": "stream",
     "text": [
      "4.87 µs ± 677 ns per loop (mean ± std. dev. of 7 runs, 100000 loops each)\n"
     ]
    }
   ],
   "source": [
    "%%timeit\n",
    "# See how long it takes to convert pandas arrays to NumPy ndarrays\n",
    "np_lat = df['latitude'].values\n",
    "np_lon = df['longitude'].values"
   ]
  },
  {
   "cell_type": "code",
   "execution_count": 15,
   "metadata": {},
   "outputs": [
    {
     "name": "stdout",
     "output_type": "stream",
     "text": [
      "212 µs ± 14.1 µs per loop (mean ± std. dev. of 7 runs, 1000 loops each)\n"
     ]
    }
   ],
   "source": [
    "# Vectorized implementation of Haversine applied on NumPy arrays\n",
    "%timeit df['distance'] = haversine(40.671, -73.985,\\\n",
    "                         df['latitude'].values, df['longitude'].values)"
   ]
  },
  {
   "cell_type": "code",
   "execution_count": 16,
   "metadata": {},
   "outputs": [
    {
     "data": {
      "text/plain": [
       "'\\nTimer unit: 1e-06 s\\n\\nTotal time: 0.000779 s\\nFile: <ipython-input-4-1f441d863f0f>\\nFunction: haversine at line 2\\n\\nLine #      Hits         Time  Per Hit   % Time  Line Contents\\n==============================================================\\n     2                                           def haversine(lat1, lon1, lat2, lon2):\\n     3         1          2.0      2.0      0.3      MILES = 3959\\n     4         1         33.0     33.0      4.2      lat1, lon1, lat2, lon2 = map(np.deg2rad, [lat1, lon1, lat2, lon2])\\n     5         1         11.0     11.0      1.4      dlat = lat2 - lat1 \\n     6         1          4.0      4.0      0.5      dlon = lon2 - lon1 \\n     7         1        697.0    697.0     89.5      a = np.sin(dlat/2)**2 + np.cos(lat1) * np.cos(lat2) * np.sin(dlon/2)**2\\n     8         1         29.0     29.0      3.7      c = 2 * np.arcsin(np.sqrt(a)) \\n     9         1          3.0      3.0      0.4      total_miles = MILES * c\\n    10         1          0.0      0.0      0.0      return total_miles\\n'"
      ]
     },
     "execution_count": 16,
     "metadata": {},
     "output_type": "execute_result"
    }
   ],
   "source": [
    "%lprun -f haversine df['distance'] = haversine(40.671, -73.985,\\\n",
    "                        df['latitude'].values, df['longitude'].values)\n",
    "\"\"\"\n",
    "Timer unit: 1e-06 s\n",
    "\n",
    "Total time: 0.000779 s\n",
    "File: <ipython-input-4-1f441d863f0f>\n",
    "Function: haversine at line 2\n",
    "\n",
    "Line #      Hits         Time  Per Hit   % Time  Line Contents\n",
    "==============================================================\n",
    "     2                                           def haversine(lat1, lon1, lat2, lon2):\n",
    "     3         1          2.0      2.0      0.3      MILES = 3959\n",
    "     4         1         33.0     33.0      4.2      lat1, lon1, lat2, lon2 = map(np.deg2rad, [lat1, lon1, lat2, lon2])\n",
    "     5         1         11.0     11.0      1.4      dlat = lat2 - lat1 \n",
    "     6         1          4.0      4.0      0.5      dlon = lon2 - lon1 \n",
    "     7         1        697.0    697.0     89.5      a = np.sin(dlat/2)**2 + np.cos(lat1) * np.cos(lat2) * np.sin(dlon/2)**2\n",
    "     8         1         29.0     29.0      3.7      c = 2 * np.arcsin(np.sqrt(a)) \n",
    "     9         1          3.0      3.0      0.4      total_miles = MILES * c\n",
    "    10         1          0.0      0.0      0.0      return total_miles\n",
    "\"\"\""
   ]
  },
  {
   "cell_type": "code",
   "execution_count": null,
   "metadata": {},
   "outputs": [],
   "source": []
  }
 ],
 "metadata": {
  "kernelspec": {
   "display_name": "Python 3",
   "language": "python",
   "name": "python3"
  },
  "language_info": {
   "codemirror_mode": {
    "name": "ipython",
    "version": 3
   },
   "file_extension": ".py",
   "mimetype": "text/x-python",
   "name": "python",
   "nbconvert_exporter": "python",
   "pygments_lexer": "ipython3",
   "version": "3.7.1"
  }
 },
 "nbformat": 4,
 "nbformat_minor": 2
}
